{
 "cells": [
  {
   "cell_type": "markdown",
   "metadata": {},
   "source": [
    "#  GARBAGE COLLECTIONS"
   ]
  },
  {
   "cell_type": "markdown",
   "metadata": {},
   "source": [
    "* Python deletes unwanted objects (built-in types or class instances) automatically to free the memory space.\n",
    "* The process by which Python periodically frees and reclaims blocks of memory that no longer are in use is called Garbage Collection.\n",
    "* Python’s garbage collector runs during program execution and is triggered when an object’s reference count reaches zero.\n",
    "* An object’s reference count changes as the number of aliases that point to it change.\n"
   ]
  },
  {
   "cell_type": "markdown",
   "metadata": {},
   "source": [
    "* There are two ways for performing manual garbage collection: \n",
    "  * time-based and event-based garbage collection.\n",
    "* Time-based garbage collection is simple:\n",
    "  * the garbage collector is called after a fixed time interval.\n",
    "* Event-based garbage collection calls the garbage collector on event occurrence. \n",
    "* For example, when a user exits the application or when the application enters into idle state."
   ]
  },
  {
   "cell_type": "markdown",
   "metadata": {},
   "source": [
    "GC module in Python provides the garbage collector. \n",
    "\n",
    "Garbage collection can be disabled by calling\n",
    "    * gc.disable()\n",
    "\n",
    "Garbage collection can be enabled by calling\n",
    "    * gc.enable()\n",
    "    \n",
    "Garbage collection status can be checked by calling\n",
    "    * gc.isenabled()"
   ]
  },
  {
   "cell_type": "code",
   "execution_count": 7,
   "metadata": {},
   "outputs": [
    {
     "data": {
      "text/plain": [
       "True"
      ]
     },
     "execution_count": 7,
     "metadata": {},
     "output_type": "execute_result"
    }
   ],
   "source": [
    "import gc\n",
    "gc.isenabled()\n",
    "gc.disable()\n",
    "gc.isenabled()\n",
    "gc.enable()\n",
    "gc.isenabled()"
   ]
  },
  {
   "cell_type": "markdown",
   "metadata": {},
   "source": [
    "### Constructor  \n",
    "__init__(self): To initialize the object.\n",
    "\n",
    "### Destructor  \n",
    "__del__(self: Before destroying the object by garbage collector this method is called on object to perform cleanup activities."
   ]
  },
  {
   "cell_type": "code",
   "execution_count": 9,
   "metadata": {},
   "outputs": [
    {
     "data": {
      "text/plain": [
       "False"
      ]
     },
     "execution_count": 9,
     "metadata": {},
     "output_type": "execute_result"
    }
   ],
   "source": [
    "import gc\n",
    "gc.isenabled()\n",
    "\n",
    "gc.disable()\n",
    "\n",
    "gc.isenabled()"
   ]
  }
 ],
 "metadata": {
  "kernelspec": {
   "display_name": "Python 3",
   "language": "python",
   "name": "python3"
  },
  "language_info": {
   "codemirror_mode": {
    "name": "ipython",
    "version": 3
   },
   "file_extension": ".py",
   "mimetype": "text/x-python",
   "name": "python",
   "nbconvert_exporter": "python",
   "pygments_lexer": "ipython3",
   "version": "3.7.3"
  }
 },
 "nbformat": 4,
 "nbformat_minor": 2
}
