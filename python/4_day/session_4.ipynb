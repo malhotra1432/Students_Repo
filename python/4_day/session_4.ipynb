{
 "cells": [
  {
   "cell_type": "markdown",
   "metadata": {},
   "source": [
    "# STATEMENTS AND SYNTAX"
   ]
  },
  {
   "cell_type": "code",
   "execution_count": 15,
   "metadata": {},
   "outputs": [
    {
     "name": "stdout",
     "output_type": "stream",
     "text": [
      "5\n",
      "2\n",
      "10\n",
      "20\n"
     ]
    },
    {
     "data": {
      "text/plain": [
       "30"
      ]
     },
     "execution_count": 15,
     "metadata": {},
     "output_type": "execute_result"
    }
   ],
   "source": [
    "#list = [1,2,3,4,5]\n",
    "\n",
    "#for i in list:\n",
    "    #print(i)\n",
    "    \n",
    "# list[:-1]\n",
    "# list[1:]\n",
    "\n",
    "# while True:\n",
    "#     print(\"true\")\n",
    "\n",
    "\n",
    "# if \n",
    "# elif\n",
    "# else\n",
    "\n",
    "a = 5\n",
    "b = 2\n",
    "\n",
    "\n",
    "# if a > b:\n",
    "#     print(a,\"is greater\",b)\n",
    "# elif a==b:\n",
    "#     print(a,\" is equal to \",b)\n",
    "# else:\n",
    "#     print(a,\"is smaller than \",b)\n",
    "    \n",
    "def add(a,b):\n",
    "    print(a)\n",
    "    print(b)\n",
    "    sum = a+b\n",
    "    return sum\n",
    "\n",
    "add(a,b)\n",
    "\n",
    "\n",
    "def calc( c = 10,d = 20):\n",
    "    sum = add(c,d)\n",
    "    return sum\n",
    "\n",
    "calc()\n",
    "\n",
    "# name = \"prabhat\"\n",
    "# name.upper()\n",
    "\n",
    "# name.split()\n",
    "\n",
    "# name.replace(\"p\",\"m\")"
   ]
  },
  {
   "cell_type": "markdown",
   "metadata": {},
   "source": [
    "# Python function arguments: Introduction"
   ]
  },
  {
   "cell_type": "markdown",
   "metadata": {},
   "source": [
    "* The first thing a programmer must be aware of is that parameters and arguments are clearly two different things although people use them synonymously.\n",
    "  \n",
    "  \n",
    "* Parameters are the variables that are defined or used inside parentheses while defining a function, whereas arguments are the value passed for these parameters while calling a function. \n",
    "\n",
    "  \n",
    "  \n",
    "* Arguments are the values that are passed to the function at run-time so that the function can do the designated task using these values."
   ]
  },
  {
   "cell_type": "code",
   "execution_count": 3,
   "metadata": {},
   "outputs": [
    {
     "name": "stdout",
     "output_type": "stream",
     "text": [
      "Hello Prabhat\n"
     ]
    }
   ],
   "source": [
    "#Defining a function first to return the value of parameter\n",
    "def display(x):  #x is the parameter\n",
    "  return x\n",
    "\n",
    "#Calling the function and supplying arguments\n",
    "print (\"Hello \" + display('Prabhat'))  #'David' is the argument"
   ]
  },
  {
   "cell_type": "markdown",
   "metadata": {},
   "source": [
    "## Types of function arguments in Python\n",
    "* There are three types of Python function arguments using which we can call a function.\n",
    "  \n",
    "  \n",
    "* Default Arguments\n",
    "* Keyword Arguments\n",
    "* Variable-length Arguments\n"
   ]
  },
  {
   "cell_type": "markdown",
   "metadata": {},
   "source": [
    "### Python Default /Positional Arguments\n",
    "* Sometimes we may want to use parameters in a function that takes default values in case the user doesn’t want to provide a value for them.\n",
    "    \n",
    "    \n",
    "* For this, we can use default arguments which assumes a default value if a value is not supplied as an argument while calling the function. In parameters list, we can give default values to one or more parameters."
   ]
  },
  {
   "cell_type": "code",
   "execution_count": 5,
   "metadata": {},
   "outputs": [
    {
     "name": "stdout",
     "output_type": "stream",
     "text": [
      "3\n",
      "6\n"
     ]
    }
   ],
   "source": [
    "def sum(a=4, b=2): #2 is supplied as default argument\n",
    "  \"\"\" This function will print sum of two numbers\n",
    "      if the arguments are not supplied\n",
    "      it will add the default value \"\"\"\n",
    "  print (a+b)\n",
    "\n",
    "sum(1,2)  #calling with arguments\n",
    "sum( )    #calling without arguments"
   ]
  },
  {
   "cell_type": "markdown",
   "metadata": {},
   "source": [
    "### Python Keyword Arguments\n",
    "* In function, the values passed through arguments are assigned to parameters in order, by their position.\n",
    "  \n",
    "  \n",
    "* With Keyword arguments, we can use the name of the parameter irrespective of its position while calling the function to supply the values. All the keyword arguments must match one of the arguments accepted by the function."
   ]
  },
  {
   "cell_type": "code",
   "execution_count": 7,
   "metadata": {},
   "outputs": [
    {
     "name": "stdout",
     "output_type": "stream",
     "text": [
      "prabhat and prince are friends\n"
     ]
    }
   ],
   "source": [
    "def print_name(name1, name2):\n",
    "  \"\"\" This function prints the name \"\"\"\n",
    "  print (name1 + \" and \" + name2 + \" are friends\")\n",
    "\n",
    "#calling the function\n",
    "print_name(name2 = 'prince',name1 = 'prabhat')"
   ]
  },
  {
   "cell_type": "markdown",
   "metadata": {},
   "source": [
    "### Variable-length Arguments\n",
    "* Sometimes you may need more arguments to process function then you mentioned in the definition. \n",
    "  \n",
    "* If we don’t know in advance about the arguments needed in function, we can use variable-length arguments also called arbitrary arguments.\n",
    "  \n",
    "  \n",
    "* If we use one asterisk (*) like *var,  then all the positional arguments from that point till the end are collected as a tuple called ‘var’ and if we use two asterisks (**) before a variable like **var,  then all the positional arguments from that point till the end are collected as a dictionary called ‘var’."
   ]
  },
  {
   "cell_type": "code",
   "execution_count": 11,
   "metadata": {},
   "outputs": [
    {
     "name": "stdout",
     "output_type": "stream",
     "text": [
      "john\n",
      "Mary\n",
      "Nina\n",
      "('John', 'LA')\n",
      "('Mary', 'NY')\n",
      "('Nina', 'CA')\n",
      "John\n",
      "LA\n",
      "Mary\n",
      "NY\n",
      "Nina\n",
      "CA\n"
     ]
    }
   ],
   "source": [
    "def display(*name, **address):\n",
    "  for items in name:\n",
    "    print (items)\n",
    "\n",
    "  for items in address.items():\n",
    "    print (items)\n",
    "    \n",
    "  for key,value in address.items():\n",
    "    print (key)\n",
    "    print(value)\n",
    "\n",
    "#Calling the function\n",
    "display('john','Mary','Nina',John='LA',Mary='NY',Nina='CA')\n"
   ]
  }
 ],
 "metadata": {
  "kernelspec": {
   "display_name": "Python 3",
   "language": "python",
   "name": "python3"
  },
  "language_info": {
   "codemirror_mode": {
    "name": "ipython",
    "version": 3
   },
   "file_extension": ".py",
   "mimetype": "text/x-python",
   "name": "python",
   "nbconvert_exporter": "python",
   "pygments_lexer": "ipython3",
   "version": "3.7.3"
  }
 },
 "nbformat": 4,
 "nbformat_minor": 2
}
