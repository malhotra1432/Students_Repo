{
 "cells": [
  {
   "cell_type": "markdown",
   "metadata": {},
   "source": [
    "# STATEMENTS AND SYNTAX"
   ]
  },
  {
   "cell_type": "code",
   "execution_count": null,
   "metadata": {},
   "outputs": [],
   "source": [
    "list = [1,2,3,4,5]\n",
    "\n",
    "#for i in list:\n",
    "    #print(i)\n",
    "    \n",
    "# list[:-1]\n",
    "# list[1:]\n",
    "\n",
    "# while True:\n",
    "#     print(\"true\")\n",
    "\n",
    "\n",
    "# if \n",
    "# elif\n",
    "# else\n",
    "\n",
    "a = 5\n",
    "b = 2\n",
    "\n",
    "if a > b:\n",
    "    print(a,\"is greater\")\n",
    "elif a==b:\n",
    "    print(a,\" is equal to \",b)\n",
    "else:\n",
    "    print(a,\"is smaller than \",b)\n",
    "    "
   ]
  }
 ],
 "metadata": {
  "kernelspec": {
   "display_name": "Python 3",
   "language": "python",
   "name": "python3"
  },
  "language_info": {
   "codemirror_mode": {
    "name": "ipython",
    "version": 3
   },
   "file_extension": ".py",
   "mimetype": "text/x-python",
   "name": "python",
   "nbconvert_exporter": "python",
   "pygments_lexer": "ipython3",
   "version": "3.7.3"
  }
 },
 "nbformat": 4,
 "nbformat_minor": 2
}
