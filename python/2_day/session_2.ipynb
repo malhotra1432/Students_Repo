{
 "cells": [
  {
   "cell_type": "markdown",
   "metadata": {},
   "source": [
    "# MEMORY MANAGEMENT AND GARBAGE COLLECTIONS"
   ]
  },
  {
   "cell_type": "code",
   "execution_count": 1,
   "metadata": {},
   "outputs": [],
   "source": [
    "x = 10"
   ]
  },
  {
   "cell_type": "markdown",
   "metadata": {},
   "source": [
    "* When a variable x = 10 is executed. An integer object 10 is created in memory \n",
    "    and it's refernce is assigned to variable x.\n",
    "* This is because everything is object in python.\n"
   ]
  },
  {
   "cell_type": "code",
   "execution_count": 2,
   "metadata": {},
   "outputs": [],
   "source": [
    "y = x"
   ]
  },
  {
   "cell_type": "code",
   "execution_count": 3,
   "metadata": {},
   "outputs": [
    {
     "name": "stdout",
     "output_type": "stream",
     "text": [
      "x and y refers to the same object.\n"
     ]
    }
   ],
   "source": [
    "if id(x) == id(y):\n",
    "    print(\"x and y refers to the same object.\")"
   ]
  },
  {
   "cell_type": "code",
   "execution_count": 4,
   "metadata": {},
   "outputs": [
    {
     "name": "stdout",
     "output_type": "stream",
     "text": [
      "X and Y refers to different objects\n"
     ]
    }
   ],
   "source": [
    "x = x + 1\n",
    "if id(x) != id(y):\n",
    "    print(\"X and Y refers to different objects\")"
   ]
  },
  {
   "cell_type": "code",
   "execution_count": 5,
   "metadata": {},
   "outputs": [
    {
     "name": "stdout",
     "output_type": "stream",
     "text": [
      "X and Y refers to the same object.\n"
     ]
    }
   ],
   "source": [
    "z = 10\n",
    "\n",
    "if id(z) == id(y):\n",
    "    print(\"X and Y refers to the same object.\")\n",
    "else:\n",
    "    print(\"X and Y refers to different objects.\")\n",
    "        "
   ]
  },
  {
   "cell_type": "markdown",
   "metadata": {},
   "source": [
    "* Python optimizes memory utilization by allocating the same object refernce to a new variable,\n",
    "    if object already exists with the same value.\n",
    "* Everything is object in python and Python is a dynamically typed language."
   ]
  },
  {
   "cell_type": "markdown",
   "metadata": {},
   "source": [
    "* In order to begin with the execution of statement some background memory organisation happens.\n",
    "* Every process is allocated some memory by underlying operating system. \n",
    "* Python interpreter will receive it's share. \n",
    "* How much memory is allocated, it depends on python version, platform and environment setting.\n",
    "* Usually we need not worry about it much."
   ]
  },
  {
   "cell_type": "markdown",
   "metadata": {},
   "source": [
    "* Memory is furthure devided into two areas:  \n",
    "    1) Heap memory  \n",
    "    2) Stack Memory"
   ]
  },
  {
   "cell_type": "markdown",
   "metadata": {},
   "source": [
    "* The methods are executed from stack memory.\n",
    "* The objects are created in heap memory and references are created in stack memory."
   ]
  },
  {
   "cell_type": "markdown",
   "metadata": {},
   "source": [
    "#### Memory allocation to functions"
   ]
  },
  {
   "cell_type": "code",
   "execution_count": null,
   "metadata": {},
   "outputs": [],
   "source": [
    "def f2(x):\n",
    "    x = x + 1\n",
    "    return x"
   ]
  },
  {
   "cell_type": "code",
   "execution_count": null,
   "metadata": {},
   "outputs": [],
   "source": [
    "def f1(x):\n",
    "    x = x * 2\n",
    "    y = f2(x)\n",
    "    return y"
   ]
  },
  {
   "cell_type": "code",
   "execution_count": null,
   "metadata": {},
   "outputs": [],
   "source": [
    "y = 5\n",
    "z = f1(y)\n",
    "print(z)"
   ]
  },
  {
   "cell_type": "code",
   "execution_count": 7,
   "metadata": {},
   "outputs": [
    {
     "name": "stdout",
     "output_type": "stream",
     "text": [
      "<__main__.Car object at 0x10ff224e0>\n",
      "4\n"
     ]
    }
   ],
   "source": [
    "class Car:\n",
    "    def __init__(self,w):\n",
    "        self.wheels = w\n",
    "        \n",
    "    def getWheels(self):\n",
    "        return self.wheels\n",
    "    \n",
    "c = Car(4)\n",
    "n = c.getWheels()\n",
    "print(c)\n",
    "print(n)"
   ]
  },
  {
   "cell_type": "markdown",
   "metadata": {},
   "source": [
    "* As soon as the new object of car is created.It's init method is invoked. So new stack frame is created.\n",
    "* Instance variable wheels is created in the heap memory inside the car object.\n",
    "* init helps in intializing the value of the same."
   ]
  }
 ],
 "metadata": {
  "kernelspec": {
   "display_name": "Python 3",
   "language": "python",
   "name": "python3"
  },
  "language_info": {
   "codemirror_mode": {
    "name": "ipython",
    "version": 3
   },
   "file_extension": ".py",
   "mimetype": "text/x-python",
   "name": "python",
   "nbconvert_exporter": "python",
   "pygments_lexer": "ipython3",
   "version": "3.7.3"
  }
 },
 "nbformat": 4,
 "nbformat_minor": 2
}
