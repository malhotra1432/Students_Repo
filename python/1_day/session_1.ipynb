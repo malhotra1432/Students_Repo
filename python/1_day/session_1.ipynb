{
 "cells": [
  {
   "cell_type": "markdown",
   "metadata": {},
   "source": [
    "# Variables &  Data Structures"
   ]
  },
  {
   "cell_type": "code",
   "execution_count": 4,
   "metadata": {},
   "outputs": [
    {
     "name": "stdout",
     "output_type": "stream",
     "text": [
      "<class 'int'>\n",
      "<class 'float'>\n",
      "<class 'str'>\n",
      "<class 'bool'>\n"
     ]
    }
   ],
   "source": [
    "# Primitive Data types\n",
    "\n",
    "x = 20\n",
    "print(type(x))\n",
    "\n",
    "y = 10.5\n",
    "print(type(y))\n",
    "\n",
    "z = \"Bita\"\n",
    "print(type(z))\n",
    "\n",
    "p = True\n",
    "print(type(p))\n",
    "\n",
    "\n",
    "# Non Primitive Data types\n",
    "# Data Structures\n",
    "#Arrays\n",
    "arr1 = [1,2,3,4,5]\n",
    "#aar2 = [2, \"r\",True,2.6] # can't handle different data types like string , int, etc.\n",
    "\n",
    "# Lists\n",
    "#list1 = []\n",
    "#list1 = list()\n",
    "list1 = [1,\"d\",\"y\",True]\n",
    "\n",
    "# Dictionay\n",
    "#dict1 = {}\n",
    "#dict1 = dict()\n",
    "dict1 = {\"name\":\"Prabhat\",\"married\":False,\"age\":23}\n",
    "\n",
    "# Tuples\n",
    "#tup1 = ()\n",
    "tup1 = (1,2)\n"
   ]
  }
 ],
 "metadata": {
  "kernelspec": {
   "display_name": "Python 3",
   "language": "python",
   "name": "python3"
  },
  "language_info": {
   "codemirror_mode": {
    "name": "ipython",
    "version": 3
   },
   "file_extension": ".py",
   "mimetype": "text/x-python",
   "name": "python",
   "nbconvert_exporter": "python",
   "pygments_lexer": "ipython3",
   "version": "3.7.3"
  }
 },
 "nbformat": 4,
 "nbformat_minor": 2
}
