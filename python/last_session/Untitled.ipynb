{
 "cells": [
  {
   "cell_type": "code",
   "execution_count": 1,
   "metadata": {},
   "outputs": [
    {
     "name": "stdout",
     "output_type": "stream",
     "text": [
      "Memory (Before): [61.1484375]Mb\n"
     ]
    }
   ],
   "source": [
    "from memory_profiler import profile\n",
    "from memory_profiler import memory_usage\n",
    "import random\n",
    "import time\n",
    "\n",
    "names = [\"prabhat\",\"prashant\",\"anamika\",\"ana\",\"lisa\"]\n",
    "major = [\"maths\",\"stats\",\"engineering\",\"commerce\",\"business\"]\n",
    "\n",
    "print(\"Memory (Before): {}Mb\".format(memory_usage()))"
   ]
  },
  {
   "cell_type": "code",
   "execution_count": 2,
   "metadata": {},
   "outputs": [],
   "source": [
    "def people_list(num_people):\n",
    "    result = []\n",
    "    for i in range(num_people):\n",
    "        person = {\n",
    "            \"id\":1,\n",
    "            \"name\":random.choice(names),\n",
    "            \"major\":random.choice(major)\n",
    "        }\n",
    "        result.append(person)\n",
    "    return result"
   ]
  },
  {
   "cell_type": "code",
   "execution_count": 3,
   "metadata": {},
   "outputs": [],
   "source": [
    "def people_generator(num_people):\n",
    "    for i in range(num_people):\n",
    "        person = {\n",
    "            \"id\":1,\n",
    "            \"name\":random.choice(names),\n",
    "            \"major\":random.choice(major)\n",
    "        }\n",
    "        yield person"
   ]
  },
  {
   "cell_type": "code",
   "execution_count": 4,
   "metadata": {},
   "outputs": [
    {
     "name": "stderr",
     "output_type": "stream",
     "text": [
      "/anaconda3/lib/python3.7/site-packages/ipykernel_launcher.py:1: DeprecationWarning: time.clock has been deprecated in Python 3.3 and will be removed from Python 3.8: use time.perf_counter or time.process_time instead\n",
      "  \"\"\"Entry point for launching an IPython kernel.\n",
      "/anaconda3/lib/python3.7/site-packages/ipykernel_launcher.py:3: DeprecationWarning: time.clock has been deprecated in Python 3.3 and will be removed from Python 3.8: use time.perf_counter or time.process_time instead\n",
      "  This is separate from the ipykernel package so we can avoid doing imports until\n"
     ]
    }
   ],
   "source": [
    "t1 = time.clock()\n",
    "peole = people_list(100000)\n",
    "t2 = time.clock()"
   ]
  },
  {
   "cell_type": "code",
   "execution_count": 5,
   "metadata": {},
   "outputs": [
    {
     "name": "stdout",
     "output_type": "stream",
     "text": [
      "2.252748983\n",
      "2.580766976\n"
     ]
    }
   ],
   "source": [
    "t1 = time.perf_counter()\n",
    "peole = people_list(100000)\n",
    "t2 = time.perf_counter()\n",
    "print(t1)\n",
    "print(t2)"
   ]
  },
  {
   "cell_type": "code",
   "execution_count": 8,
   "metadata": {},
   "outputs": [
    {
     "name": "stdout",
     "output_type": "stream",
     "text": [
      "Memory (After): [61.40234375]Mb\n",
      "Took 0.013720953000003533 seconds\n"
     ]
    }
   ],
   "source": [
    "print(\"Memory (After): {}Mb\".format(memory_usage()))\n",
    "print(\"Took {} seconds\".format(t2-t1))"
   ]
  },
  {
   "cell_type": "code",
   "execution_count": 9,
   "metadata": {},
   "outputs": [
    {
     "name": "stdout",
     "output_type": "stream",
     "text": [
      "139.835578549\n",
      "139.835639865\n"
     ]
    }
   ],
   "source": [
    "t1 = time.perf_counter()\n",
    "peole = people_generator(100000)\n",
    "t2 = time.perf_counter()\n",
    "print(t1)\n",
    "print(t2)"
   ]
  },
  {
   "cell_type": "code",
   "execution_count": 10,
   "metadata": {},
   "outputs": [
    {
     "name": "stdout",
     "output_type": "stream",
     "text": [
      "Memory (After): [61.4140625]Mb\n",
      "Took 6.131600000003345e-05 seconds\n"
     ]
    }
   ],
   "source": [
    "print(\"Memory (After): {}Mb\".format(memory_usage()))\n",
    "print(\"Took {} seconds\".format(t2-t1))"
   ]
  }
 ],
 "metadata": {
  "kernelspec": {
   "display_name": "Python 3",
   "language": "python",
   "name": "python3"
  },
  "language_info": {
   "codemirror_mode": {
    "name": "ipython",
    "version": 3
   },
   "file_extension": ".py",
   "mimetype": "text/x-python",
   "name": "python",
   "nbconvert_exporter": "python",
   "pygments_lexer": "ipython3",
   "version": "3.7.3"
  }
 },
 "nbformat": 4,
 "nbformat_minor": 2
}
