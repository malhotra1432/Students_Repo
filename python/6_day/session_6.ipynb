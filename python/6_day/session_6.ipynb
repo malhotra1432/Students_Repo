{
 "cells": [
  {
   "cell_type": "markdown",
   "metadata": {},
   "source": [
    "# Inheritance in Python"
   ]
  },
  {
   "cell_type": "markdown",
   "metadata": {},
   "source": [
    "* There are 5 types of inheritance in python:"
   ]
  },
  {
   "cell_type": "markdown",
   "metadata": {},
   "source": [
    "### 1. Single/Simple Inheritance\n",
    "\n",
    "* Syntax \n",
    "\n",
    "class A():  \n",
    "        stmts  \n",
    "class B(A):  \n",
    "        stmts"
   ]
  },
  {
   "cell_type": "code",
   "execution_count": 5,
   "metadata": {},
   "outputs": [
    {
     "name": "stdout",
     "output_type": "stream",
     "text": [
      "Class A method \n",
      "Class B method \n"
     ]
    },
    {
     "data": {
      "text/plain": [
       "10"
      ]
     },
     "execution_count": 5,
     "metadata": {},
     "output_type": "execute_result"
    }
   ],
   "source": [
    "# Example \n",
    "class A:\n",
    "    a = 10\n",
    "    b = 20\n",
    "    def class_A_method(self):\n",
    "        print(\"Class A method \")\n",
    "        \n",
    "class B(A):\n",
    "    c = 30\n",
    "    d = 40\n",
    "    def class_B_method(self):\n",
    "        print(\"Class B method \")\n",
    "\n",
    "# obj_a = A()\n",
    "# obj_a.class_A_method()\n",
    "# obj_a.class_B_method()\n",
    "\n",
    "obj_b = B()\n",
    "obj_b.class_A_method()\n",
    "obj_b.class_B_method()\n",
    "obj_b.a\n",
    "#obj_b.b"
   ]
  },
  {
   "cell_type": "markdown",
   "metadata": {},
   "source": [
    "## 2. Multi Level Inheritance\n",
    "* Syntax  \n",
    "class A:  \n",
    "stmts   \n",
    "class B(A):    \n",
    "stmts   \n",
    "class C(B):    \n",
    "stmts  "
   ]
  },
  {
   "cell_type": "code",
   "execution_count": 10,
   "metadata": {},
   "outputs": [
    {
     "name": "stdout",
     "output_type": "stream",
     "text": [
      "Class A method \n",
      "Class B method \n",
      "accessing variables from different classes  100 80 50\n",
      "class c method \n"
     ]
    }
   ],
   "source": [
    "# Example\n",
    "class A:\n",
    "    a = 10\n",
    "    b = 20\n",
    "    def class_A_method(self):\n",
    "        print(\"Class A method \")\n",
    "        \n",
    "class B(A):\n",
    "    c = 30\n",
    "    d = 40\n",
    "    def class_B_method(self):\n",
    "        print(\"Class B method \")\n",
    "        \n",
    "class C(B):\n",
    "    e = 50\n",
    "    f = 60\n",
    "    a = 100\n",
    "    c = 80\n",
    "    def class_C_method(self):\n",
    "        self.a\n",
    "        self.c\n",
    "        self.e\n",
    "        print(\"accessing variables from different classes \",self.a,self.c,self.e)\n",
    "        print(\"class c method \")\n",
    "        \n",
    "obj_c = C()\n",
    "obj_c.class_A_method()\n",
    "obj_c.class_B_method()\n",
    "obj_c.class_C_method()\n"
   ]
  },
  {
   "cell_type": "markdown",
   "metadata": {},
   "source": [
    "## 3. Hierarchical Inheritance\n",
    "* Syntax  \n",
    "class A:  \n",
    "stmts   \n",
    "class B(A):    \n",
    "stmts   \n",
    "class C(A):    \n",
    "stmts  "
   ]
  },
  {
   "cell_type": "code",
   "execution_count": 17,
   "metadata": {},
   "outputs": [
    {
     "name": "stdout",
     "output_type": "stream",
     "text": [
      "accessing variables from different classes  10 100 50\n",
      "class c method \n"
     ]
    }
   ],
   "source": [
    "# Example\n",
    "class A:\n",
    "    a = 10\n",
    "    b = 20\n",
    "    def class_A_method(self):\n",
    "        print(\"Class A method \")\n",
    "        \n",
    "class B(A):\n",
    "    c = 30\n",
    "    d = 40\n",
    "    def class_B_method(self):\n",
    "        print(\"Class B method \")\n",
    "        \n",
    "class C(A):\n",
    "    e = 50\n",
    "    f = 60\n",
    "    c = 100\n",
    "    def class_C_method(self):\n",
    "        self.a\n",
    "        self.c\n",
    "        self.e\n",
    "        print(\"accessing variables from different classes \",self.a,self.c,self.e)\n",
    "        print(\"class c method \")\n",
    "    \n",
    "obj_c = C()\n",
    "#obj_c.class_A_method()\n",
    "obj_c.class_C_method()\n",
    "\n",
    "# obj_b = B()\n",
    "# obj_b.class_A_method()\n",
    "\n",
    "#obj_c.class_B_method()"
   ]
  },
  {
   "cell_type": "markdown",
   "metadata": {},
   "source": [
    "## 4. Multiple Inheritance\n",
    "* Syntax  \n",
    "class A:  \n",
    "stmts   \n",
    "class B:    \n",
    "stmts   \n",
    "class C(A,B):    \n",
    "stmts  "
   ]
  },
  {
   "cell_type": "code",
   "execution_count": 25,
   "metadata": {},
   "outputs": [
    {
     "name": "stdout",
     "output_type": "stream",
     "text": [
      "Common Method from class B \n",
      "class c method \n"
     ]
    }
   ],
   "source": [
    "# Example\n",
    "class A:\n",
    "    a = 10\n",
    "    b = 20\n",
    "    def class_A_method(self):\n",
    "        print(\"Class A method \")\n",
    "        \n",
    "    def common_method(self):\n",
    "        print(\"Common Method from class A \")\n",
    "        \n",
    "class B():\n",
    "    c = 30\n",
    "    d = 40\n",
    "    def class_B_method(self):\n",
    "        print(\"Class B method \")\n",
    "        \n",
    "    def common_method(self):\n",
    "        print(\"Common Method from class B \")\n",
    "        \n",
    "class C(B,A):\n",
    "    e = 50\n",
    "    f = 60\n",
    "    def class_C_method(self):\n",
    "#         self.a\n",
    "#         self.c\n",
    "#         self.e\n",
    "        self.common_method()\n",
    "        #print(\"accessing variables from different classes \",self.a,self.c,self.e)\n",
    "        print(\"class c method \")\n",
    "        \n",
    "obj_c = C()\n",
    "#obj_c.class_A_method()\n",
    "#obj_c.class_B_method()\n",
    "#obj_c.common_method()\n",
    "\n",
    "obj_c.class_C_method()\n",
    "\n",
    "\n",
    "# obj_a = A()\n",
    "# obj_a.class_C_method()\n",
    "# obj_a.class_B_method()\n",
    "\n",
    "# obj_b = B()\n",
    "# obj_b.class_A_method()\n",
    "# obj_b.class_C_method()"
   ]
  },
  {
   "cell_type": "markdown",
   "metadata": {},
   "source": [
    "## 5. Hybrid Inheritance\n",
    "* Syntax  \n",
    "class A:  \n",
    "    stmts   \n",
    "class B(A):    \n",
    "    stmts   \n",
    "class C(A):    \n",
    "    stmts    \n",
    "class D(B,C):  \n",
    "    stmts"
   ]
  },
  {
   "cell_type": "code",
   "execution_count": 26,
   "metadata": {},
   "outputs": [
    {
     "name": "stdout",
     "output_type": "stream",
     "text": [
      "Class A method \n",
      "Class B method \n",
      "class c method \n"
     ]
    }
   ],
   "source": [
    "# Example\n",
    "class A:\n",
    "    a = 10\n",
    "    b = 20\n",
    "    def class_A_method(self):\n",
    "        print(\"Class A method \")\n",
    "        \n",
    "#     def common_method(self):\n",
    "#         print(\"Method from class A \")\n",
    "        \n",
    "class B(A):\n",
    "    c = 30\n",
    "    d = 40\n",
    "    def class_B_method(self):\n",
    "        print(\"Class B method \")\n",
    "        \n",
    "#     def common_method(self):\n",
    "#         print(\"Method from class B \")\n",
    "        \n",
    "class C(A):\n",
    "    e = 50\n",
    "    f = 60\n",
    "    def class_C_method(self):\n",
    "#         self.a\n",
    "#         self.c\n",
    "#         self.e\n",
    "#         print(\"accessing variables from different classes \",self.a,self.c,self.e)\n",
    "        print(\"class c method \")\n",
    "\n",
    "class D(B,C):\n",
    "    g = 70\n",
    "    h = 80\n",
    "    def class_D_method(self):\n",
    "        print(\"Class D method \")\n",
    "\n",
    "obj_d = D()\n",
    "obj_d.class_A_method()\n",
    "obj_d.class_B_method()\n",
    "obj_d.class_C_method()"
   ]
  }
 ],
 "metadata": {
  "kernelspec": {
   "display_name": "Python 3",
   "language": "python",
   "name": "python3"
  },
  "language_info": {
   "codemirror_mode": {
    "name": "ipython",
    "version": 3
   },
   "file_extension": ".py",
   "mimetype": "text/x-python",
   "name": "python",
   "nbconvert_exporter": "python",
   "pygments_lexer": "ipython3",
   "version": "3.7.3"
  }
 },
 "nbformat": 4,
 "nbformat_minor": 2
}
