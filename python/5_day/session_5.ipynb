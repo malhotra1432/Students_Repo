{
 "cells": [
  {
   "cell_type": "markdown",
   "metadata": {},
   "source": [
    "# Python OOPs Concepts\n",
    "\n",
    "### Major principles of object-oriented programming system are given below.\n",
    "\n",
    "* Class \n",
    "* Object   \n",
    "* Method   \n",
    "* Inheritance \n",
    "* Polymorphism \n",
    "* Data Abstraction \n",
    "* Encapsulation"
   ]
  },
  {
   "cell_type": "markdown",
   "metadata": {},
   "source": [
    "### Class\n",
    "* A class is a virtual entity that can be seen as blueprint of an object.\n",
    "##### Example\n",
    "* Suppose a class is a prototype of a building.\n",
    "* A building contains all the details about the floor,doors,windows,etc.\n",
    "* We can make as many buildings as we want based on these details.\n",
    "###### Hence building can be seen as a class and we can create as many objects of this class. \n"
   ]
  },
  {
   "cell_type": "markdown",
   "metadata": {},
   "source": [
    "# Object\n",
    "* Object is an instant of a class.\n",
    "* The process of creating an object can called as instantiation."
   ]
  },
  {
   "cell_type": "code",
   "execution_count": 3,
   "metadata": {},
   "outputs": [
    {
     "name": "stdout",
     "output_type": "stream",
     "text": [
      "10 john\n"
     ]
    }
   ],
   "source": [
    "# Example\n",
    "class Employee:\n",
    "    id = 10\n",
    "    name = \"john\"\n",
    "    def display(self):\n",
    "        print(self.id,self.name)\n",
    "        \n",
    "emp = Employee()\n",
    "emp.display()"
   ]
  },
  {
   "cell_type": "code",
   "execution_count": 9,
   "metadata": {},
   "outputs": [
    {
     "name": "stdout",
     "output_type": "stream",
     "text": [
      "10 john\n"
     ]
    }
   ],
   "source": [
    "class Employee:\n",
    "    \n",
    "    def __init__(self,id,name):\n",
    "        self.id = id\n",
    "        self.name = name\n",
    "    #id = 10\n",
    "    #name = \"john\"\n",
    "    def display(self):\n",
    "        print(self.id,self.name)\n",
    "        \n",
    "emp = Employee(10,\"john\")\n",
    "emp.display()"
   ]
  }
 ],
 "metadata": {
  "kernelspec": {
   "display_name": "Python 3",
   "language": "python",
   "name": "python3"
  },
  "language_info": {
   "codemirror_mode": {
    "name": "ipython",
    "version": 3
   },
   "file_extension": ".py",
   "mimetype": "text/x-python",
   "name": "python",
   "nbconvert_exporter": "python",
   "pygments_lexer": "ipython3",
   "version": "3.7.3"
  }
 },
 "nbformat": 4,
 "nbformat_minor": 2
}
